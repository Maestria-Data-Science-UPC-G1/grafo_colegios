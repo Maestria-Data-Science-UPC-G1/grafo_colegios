{
 "cells": [
  {
   "cell_type": "code",
   "execution_count": 2,
   "metadata": {},
   "outputs": [],
   "source": [
    "#!pip install pandas\n",
    "#!pip install numpy\n",
    "#!pip install matplotlib\n",
    "#!pip install networkx"
   ]
  },
  {
   "cell_type": "code",
   "execution_count": 3,
   "metadata": {},
   "outputs": [
    {
     "name": "stdout",
     "output_type": "stream",
     "text": [
      "Cambios realizados\n"
     ]
    }
   ],
   "source": [
    "print('Cambios realizados')"
   ]
  },
  {
   "cell_type": "code",
   "execution_count": 1,
   "metadata": {},
   "outputs": [],
   "source": [
    "import networkx as nx\n",
    "import warnings\n",
    "import numpy as np\n",
    "import random\n",
    "import pandas as pd\n",
    "import matplotlib.pyplot as plt\n",
    "import matplotlib.colors as mcolors\n",
    "warnings.filterwarnings('ignore')\n",
    "%matplotlib inline"
   ]
  },
  {
   "cell_type": "markdown",
   "metadata": {},
   "source": [
    "## Cargando el archivo del 2019"
   ]
  },
  {
   "cell_type": "code",
   "execution_count": 2,
   "metadata": {},
   "outputs": [
    {
     "data": {
      "text/html": [
       "<div>\n",
       "<style scoped>\n",
       "    .dataframe tbody tr th:only-of-type {\n",
       "        vertical-align: middle;\n",
       "    }\n",
       "\n",
       "    .dataframe tbody tr th {\n",
       "        vertical-align: top;\n",
       "    }\n",
       "\n",
       "    .dataframe thead th {\n",
       "        text-align: right;\n",
       "    }\n",
       "</style>\n",
       "<table border=\"1\" class=\"dataframe\">\n",
       "  <thead>\n",
       "    <tr style=\"text-align: right;\">\n",
       "      <th></th>\n",
       "      <th>COD_MOD</th>\n",
       "      <th>COD_MOD_DESTINO</th>\n",
       "      <th>WEIGHT</th>\n",
       "    </tr>\n",
       "  </thead>\n",
       "  <tbody>\n",
       "    <tr>\n",
       "      <th>0</th>\n",
       "      <td>1038199</td>\n",
       "      <td>411504</td>\n",
       "      <td>1</td>\n",
       "    </tr>\n",
       "    <tr>\n",
       "      <th>1</th>\n",
       "      <td>503052</td>\n",
       "      <td>411504</td>\n",
       "      <td>1</td>\n",
       "    </tr>\n",
       "    <tr>\n",
       "      <th>2</th>\n",
       "      <td>826263</td>\n",
       "      <td>416057</td>\n",
       "      <td>2</td>\n",
       "    </tr>\n",
       "    <tr>\n",
       "      <th>3</th>\n",
       "      <td>1053818</td>\n",
       "      <td>411736</td>\n",
       "      <td>1</td>\n",
       "    </tr>\n",
       "    <tr>\n",
       "      <th>4</th>\n",
       "      <td>482042</td>\n",
       "      <td>411736</td>\n",
       "      <td>1</td>\n",
       "    </tr>\n",
       "    <tr>\n",
       "      <th>...</th>\n",
       "      <td>...</td>\n",
       "      <td>...</td>\n",
       "      <td>...</td>\n",
       "    </tr>\n",
       "    <tr>\n",
       "      <th>178899</th>\n",
       "      <td>328955</td>\n",
       "      <td>281972</td>\n",
       "      <td>1</td>\n",
       "    </tr>\n",
       "    <tr>\n",
       "      <th>178900</th>\n",
       "      <td>1531367</td>\n",
       "      <td>679472</td>\n",
       "      <td>1</td>\n",
       "    </tr>\n",
       "    <tr>\n",
       "      <th>178901</th>\n",
       "      <td>286427</td>\n",
       "      <td>1064120</td>\n",
       "      <td>1</td>\n",
       "    </tr>\n",
       "    <tr>\n",
       "      <th>178902</th>\n",
       "      <td>743716</td>\n",
       "      <td>636837</td>\n",
       "      <td>2</td>\n",
       "    </tr>\n",
       "    <tr>\n",
       "      <th>178903</th>\n",
       "      <td>1225713</td>\n",
       "      <td>1064310</td>\n",
       "      <td>1</td>\n",
       "    </tr>\n",
       "  </tbody>\n",
       "</table>\n",
       "<p>178904 rows × 3 columns</p>\n",
       "</div>"
      ],
      "text/plain": [
       "        COD_MOD  COD_MOD_DESTINO  WEIGHT\n",
       "0       1038199           411504       1\n",
       "1        503052           411504       1\n",
       "2        826263           416057       2\n",
       "3       1053818           411736       1\n",
       "4        482042           411736       1\n",
       "...         ...              ...     ...\n",
       "178899   328955           281972       1\n",
       "178900  1531367           679472       1\n",
       "178901   286427          1064120       1\n",
       "178902   743716           636837       2\n",
       "178903  1225713          1064310       1\n",
       "\n",
       "[178904 rows x 3 columns]"
      ]
     },
     "execution_count": 2,
     "metadata": {},
     "output_type": "execute_result"
    }
   ],
   "source": [
    "df_2019 = pd.read_csv('data/traslados_2019_tp2_3_lima.csv')\n",
    "df_2019"
   ]
  },
  {
   "cell_type": "markdown",
   "metadata": {},
   "source": [
    "## Cargando el archivo del 2020"
   ]
  },
  {
   "cell_type": "code",
   "execution_count": 3,
   "metadata": {},
   "outputs": [
    {
     "data": {
      "text/html": [
       "<div>\n",
       "<style scoped>\n",
       "    .dataframe tbody tr th:only-of-type {\n",
       "        vertical-align: middle;\n",
       "    }\n",
       "\n",
       "    .dataframe tbody tr th {\n",
       "        vertical-align: top;\n",
       "    }\n",
       "\n",
       "    .dataframe thead th {\n",
       "        text-align: right;\n",
       "    }\n",
       "</style>\n",
       "<table border=\"1\" class=\"dataframe\">\n",
       "  <thead>\n",
       "    <tr style=\"text-align: right;\">\n",
       "      <th></th>\n",
       "      <th>COD_MOD</th>\n",
       "      <th>COD_MOD_DESTINO</th>\n",
       "      <th>WEIGHT</th>\n",
       "    </tr>\n",
       "  </thead>\n",
       "  <tbody>\n",
       "    <tr>\n",
       "      <th>0</th>\n",
       "      <td>900993</td>\n",
       "      <td>416073</td>\n",
       "      <td>1</td>\n",
       "    </tr>\n",
       "    <tr>\n",
       "      <th>1</th>\n",
       "      <td>1010354</td>\n",
       "      <td>417758</td>\n",
       "      <td>1</td>\n",
       "    </tr>\n",
       "    <tr>\n",
       "      <th>2</th>\n",
       "      <td>649731</td>\n",
       "      <td>577346</td>\n",
       "      <td>1</td>\n",
       "    </tr>\n",
       "    <tr>\n",
       "      <th>3</th>\n",
       "      <td>1521236</td>\n",
       "      <td>577346</td>\n",
       "      <td>1</td>\n",
       "    </tr>\n",
       "    <tr>\n",
       "      <th>4</th>\n",
       "      <td>436162</td>\n",
       "      <td>412635</td>\n",
       "      <td>1</td>\n",
       "    </tr>\n",
       "    <tr>\n",
       "      <th>...</th>\n",
       "      <td>...</td>\n",
       "      <td>...</td>\n",
       "      <td>...</td>\n",
       "    </tr>\n",
       "    <tr>\n",
       "      <th>204313</th>\n",
       "      <td>332247</td>\n",
       "      <td>1342724</td>\n",
       "      <td>1</td>\n",
       "    </tr>\n",
       "    <tr>\n",
       "      <th>204314</th>\n",
       "      <td>320408</td>\n",
       "      <td>1342724</td>\n",
       "      <td>1</td>\n",
       "    </tr>\n",
       "    <tr>\n",
       "      <th>204315</th>\n",
       "      <td>826354</td>\n",
       "      <td>1342724</td>\n",
       "      <td>1</td>\n",
       "    </tr>\n",
       "    <tr>\n",
       "      <th>204316</th>\n",
       "      <td>1501709</td>\n",
       "      <td>1342724</td>\n",
       "      <td>1</td>\n",
       "    </tr>\n",
       "    <tr>\n",
       "      <th>204317</th>\n",
       "      <td>1364736</td>\n",
       "      <td>1343490</td>\n",
       "      <td>1</td>\n",
       "    </tr>\n",
       "  </tbody>\n",
       "</table>\n",
       "<p>204318 rows × 3 columns</p>\n",
       "</div>"
      ],
      "text/plain": [
       "        COD_MOD  COD_MOD_DESTINO  WEIGHT\n",
       "0        900993           416073       1\n",
       "1       1010354           417758       1\n",
       "2        649731           577346       1\n",
       "3       1521236           577346       1\n",
       "4        436162           412635       1\n",
       "...         ...              ...     ...\n",
       "204313   332247          1342724       1\n",
       "204314   320408          1342724       1\n",
       "204315   826354          1342724       1\n",
       "204316  1501709          1342724       1\n",
       "204317  1364736          1343490       1\n",
       "\n",
       "[204318 rows x 3 columns]"
      ]
     },
     "execution_count": 3,
     "metadata": {},
     "output_type": "execute_result"
    }
   ],
   "source": [
    "df_2020 = pd.read_csv('data/traslados_2020_tp2_3_lima.csv')\n",
    "df_2020"
   ]
  },
  {
   "cell_type": "markdown",
   "metadata": {},
   "source": [
    "## Cargando el archivo de labels"
   ]
  },
  {
   "cell_type": "code",
   "execution_count": 4,
   "metadata": {},
   "outputs": [
    {
     "data": {
      "text/html": [
       "<div>\n",
       "<style scoped>\n",
       "    .dataframe tbody tr th:only-of-type {\n",
       "        vertical-align: middle;\n",
       "    }\n",
       "\n",
       "    .dataframe tbody tr th {\n",
       "        vertical-align: top;\n",
       "    }\n",
       "\n",
       "    .dataframe thead th {\n",
       "        text-align: right;\n",
       "    }\n",
       "</style>\n",
       "<table border=\"1\" class=\"dataframe\">\n",
       "  <thead>\n",
       "    <tr style=\"text-align: right;\">\n",
       "      <th></th>\n",
       "      <th>COD_MOD</th>\n",
       "      <th>ANEXO</th>\n",
       "      <th>D_DPTO</th>\n",
       "      <th>D_PROV</th>\n",
       "      <th>D_DIST</th>\n",
       "      <th>D_REGION</th>\n",
       "      <th>D_DREUGEL</th>\n",
       "      <th>GESTION</th>\n",
       "      <th>D_NIV_MOD</th>\n",
       "      <th>NOMBRE_IE</th>\n",
       "      <th>NLONG_IE</th>\n",
       "      <th>NLAT_IE</th>\n",
       "    </tr>\n",
       "  </thead>\n",
       "  <tbody>\n",
       "    <tr>\n",
       "      <th>0</th>\n",
       "      <td>415547</td>\n",
       "      <td>0</td>\n",
       "      <td>ANCASH</td>\n",
       "      <td>HUARAZ</td>\n",
       "      <td>INDEPENDENCIA</td>\n",
       "      <td>DRE ANCASH</td>\n",
       "      <td>UGEL HUARAZ</td>\n",
       "      <td>PUBLICO</td>\n",
       "      <td>Inicial - Jardín</td>\n",
       "      <td>123</td>\n",
       "      <td>-77.531910</td>\n",
       "      <td>-9.51885</td>\n",
       "    </tr>\n",
       "    <tr>\n",
       "      <th>1</th>\n",
       "      <td>415638</td>\n",
       "      <td>0</td>\n",
       "      <td>ANCASH</td>\n",
       "      <td>HUARAZ</td>\n",
       "      <td>HUARAZ</td>\n",
       "      <td>DRE ANCASH</td>\n",
       "      <td>UGEL HUARAZ</td>\n",
       "      <td>PUBLICO</td>\n",
       "      <td>Inicial - Jardín</td>\n",
       "      <td>122</td>\n",
       "      <td>-77.531960</td>\n",
       "      <td>-9.53067</td>\n",
       "    </tr>\n",
       "    <tr>\n",
       "      <th>2</th>\n",
       "      <td>415646</td>\n",
       "      <td>0</td>\n",
       "      <td>ANCASH</td>\n",
       "      <td>HUARAZ</td>\n",
       "      <td>HUARAZ</td>\n",
       "      <td>DRE ANCASH</td>\n",
       "      <td>UGEL HUARAZ</td>\n",
       "      <td>PUBLICO</td>\n",
       "      <td>Inicial - Jardín</td>\n",
       "      <td>233</td>\n",
       "      <td>-77.522700</td>\n",
       "      <td>-9.5311</td>\n",
       "    </tr>\n",
       "    <tr>\n",
       "      <th>3</th>\n",
       "      <td>415877</td>\n",
       "      <td>0</td>\n",
       "      <td>ANCASH</td>\n",
       "      <td>HUARAZ</td>\n",
       "      <td>INDEPENDENCIA</td>\n",
       "      <td>DRE ANCASH</td>\n",
       "      <td>UGEL HUARAZ</td>\n",
       "      <td>PRIVADO</td>\n",
       "      <td>Inicial - Jardín</td>\n",
       "      <td>COLEGIO PARROQUIAL NUESTRA SEÑORA DEL SAGRADO ...</td>\n",
       "      <td>-77.531481</td>\n",
       "      <td>-9.516673</td>\n",
       "    </tr>\n",
       "    <tr>\n",
       "      <th>4</th>\n",
       "      <td>567206</td>\n",
       "      <td>0</td>\n",
       "      <td>ANCASH</td>\n",
       "      <td>HUARAZ</td>\n",
       "      <td>INDEPENDENCIA</td>\n",
       "      <td>DRE ANCASH</td>\n",
       "      <td>UGEL HUARAZ</td>\n",
       "      <td>PUBLICO</td>\n",
       "      <td>Inicial - Jardín</td>\n",
       "      <td>268</td>\n",
       "      <td>-77.504026</td>\n",
       "      <td>-9.51394</td>\n",
       "    </tr>\n",
       "    <tr>\n",
       "      <th>...</th>\n",
       "      <td>...</td>\n",
       "      <td>...</td>\n",
       "      <td>...</td>\n",
       "      <td>...</td>\n",
       "      <td>...</td>\n",
       "      <td>...</td>\n",
       "      <td>...</td>\n",
       "      <td>...</td>\n",
       "      <td>...</td>\n",
       "      <td>...</td>\n",
       "      <td>...</td>\n",
       "      <td>...</td>\n",
       "    </tr>\n",
       "    <tr>\n",
       "      <th>173899</th>\n",
       "      <td>1794734</td>\n",
       "      <td>0</td>\n",
       "      <td>CAJAMARCA</td>\n",
       "      <td>CONTUMAZA</td>\n",
       "      <td>CONTUMAZA</td>\n",
       "      <td>DRE CAJAMARCA</td>\n",
       "      <td>UGEL CONTUMAZÁ</td>\n",
       "      <td>PUBLICO</td>\n",
       "      <td>Primaria</td>\n",
       "      <td>211</td>\n",
       "      <td>-78.652450</td>\n",
       "      <td>-7.34258</td>\n",
       "    </tr>\n",
       "    <tr>\n",
       "      <th>173900</th>\n",
       "      <td>1794742</td>\n",
       "      <td>0</td>\n",
       "      <td>HUANCAVELICA</td>\n",
       "      <td>HUAYTARA</td>\n",
       "      <td>SAN FRANCISCO DE SANGAYAICO</td>\n",
       "      <td>DRE HUANCAVELICA</td>\n",
       "      <td>UGEL HUAYTARÁ</td>\n",
       "      <td>PUBLICO</td>\n",
       "      <td>Secundaria</td>\n",
       "      <td>22586</td>\n",
       "      <td>-74.971787</td>\n",
       "      <td>-13.59848</td>\n",
       "    </tr>\n",
       "    <tr>\n",
       "      <th>173901</th>\n",
       "      <td>3007085</td>\n",
       "      <td>0</td>\n",
       "      <td>AMAZONAS</td>\n",
       "      <td>BAGUA</td>\n",
       "      <td>IMAZA</td>\n",
       "      <td>DRE AMAZONAS</td>\n",
       "      <td>UGEL IBIR-IMAZA</td>\n",
       "      <td>PUBLICO</td>\n",
       "      <td>Inicial - Jardín</td>\n",
       "      <td>451</td>\n",
       "      <td>-78.187444</td>\n",
       "      <td>-4.844992</td>\n",
       "    </tr>\n",
       "    <tr>\n",
       "      <th>173902</th>\n",
       "      <td>3007093</td>\n",
       "      <td>0</td>\n",
       "      <td>AMAZONAS</td>\n",
       "      <td>BAGUA</td>\n",
       "      <td>IMAZA</td>\n",
       "      <td>DRE AMAZONAS</td>\n",
       "      <td>UGEL IBIR-IMAZA</td>\n",
       "      <td>PUBLICO</td>\n",
       "      <td>Primaria</td>\n",
       "      <td>17901</td>\n",
       "      <td>-78.367603</td>\n",
       "      <td>-5.111024</td>\n",
       "    </tr>\n",
       "    <tr>\n",
       "      <th>173903</th>\n",
       "      <td>3007101</td>\n",
       "      <td>0</td>\n",
       "      <td>AMAZONAS</td>\n",
       "      <td>BAGUA</td>\n",
       "      <td>IMAZA</td>\n",
       "      <td>DRE AMAZONAS</td>\n",
       "      <td>UGEL IBIR-IMAZA</td>\n",
       "      <td>PUBLICO</td>\n",
       "      <td>Primaria</td>\n",
       "      <td>17904</td>\n",
       "      <td>-78.199074</td>\n",
       "      <td>-5.155098</td>\n",
       "    </tr>\n",
       "  </tbody>\n",
       "</table>\n",
       "<p>173904 rows × 12 columns</p>\n",
       "</div>"
      ],
      "text/plain": [
       "        COD_MOD  ANEXO        D_DPTO     D_PROV                       D_DIST  \\\n",
       "0        415547      0        ANCASH     HUARAZ                INDEPENDENCIA   \n",
       "1        415638      0        ANCASH     HUARAZ                       HUARAZ   \n",
       "2        415646      0        ANCASH     HUARAZ                       HUARAZ   \n",
       "3        415877      0        ANCASH     HUARAZ                INDEPENDENCIA   \n",
       "4        567206      0        ANCASH     HUARAZ                INDEPENDENCIA   \n",
       "...         ...    ...           ...        ...                          ...   \n",
       "173899  1794734      0     CAJAMARCA  CONTUMAZA                    CONTUMAZA   \n",
       "173900  1794742      0  HUANCAVELICA   HUAYTARA  SAN FRANCISCO DE SANGAYAICO   \n",
       "173901  3007085      0      AMAZONAS      BAGUA                        IMAZA   \n",
       "173902  3007093      0      AMAZONAS      BAGUA                        IMAZA   \n",
       "173903  3007101      0      AMAZONAS      BAGUA                        IMAZA   \n",
       "\n",
       "                D_REGION        D_DREUGEL  GESTION         D_NIV_MOD  \\\n",
       "0             DRE ANCASH      UGEL HUARAZ  PUBLICO  Inicial - Jardín   \n",
       "1             DRE ANCASH      UGEL HUARAZ  PUBLICO  Inicial - Jardín   \n",
       "2             DRE ANCASH      UGEL HUARAZ  PUBLICO  Inicial - Jardín   \n",
       "3             DRE ANCASH      UGEL HUARAZ  PRIVADO  Inicial - Jardín   \n",
       "4             DRE ANCASH      UGEL HUARAZ  PUBLICO  Inicial - Jardín   \n",
       "...                  ...              ...      ...               ...   \n",
       "173899     DRE CAJAMARCA   UGEL CONTUMAZÁ  PUBLICO          Primaria   \n",
       "173900  DRE HUANCAVELICA    UGEL HUAYTARÁ  PUBLICO        Secundaria   \n",
       "173901      DRE AMAZONAS  UGEL IBIR-IMAZA  PUBLICO  Inicial - Jardín   \n",
       "173902      DRE AMAZONAS  UGEL IBIR-IMAZA  PUBLICO          Primaria   \n",
       "173903      DRE AMAZONAS  UGEL IBIR-IMAZA  PUBLICO          Primaria   \n",
       "\n",
       "                                                NOMBRE_IE    NLONG_IE  \\\n",
       "0                                                     123  -77.531910   \n",
       "1                                                     122  -77.531960   \n",
       "2                                                     233  -77.522700   \n",
       "3       COLEGIO PARROQUIAL NUESTRA SEÑORA DEL SAGRADO ...  -77.531481   \n",
       "4                                                     268  -77.504026   \n",
       "...                                                   ...         ...   \n",
       "173899                                                211  -78.652450   \n",
       "173900                                              22586  -74.971787   \n",
       "173901                                                451  -78.187444   \n",
       "173902                                              17901  -78.367603   \n",
       "173903                                              17904  -78.199074   \n",
       "\n",
       "         NLAT_IE  \n",
       "0       -9.51885  \n",
       "1       -9.53067  \n",
       "2        -9.5311  \n",
       "3      -9.516673  \n",
       "4       -9.51394  \n",
       "...          ...  \n",
       "173899  -7.34258  \n",
       "173900 -13.59848  \n",
       "173901 -4.844992  \n",
       "173902 -5.111024  \n",
       "173903 -5.155098  \n",
       "\n",
       "[173904 rows x 12 columns]"
      ]
     },
     "execution_count": 4,
     "metadata": {},
     "output_type": "execute_result"
    }
   ],
   "source": [
    "df_labels = pd.read_csv('data/traslados_ie_labels_2.csv', encoding='Windows-1252', usecols=lambda col: col != 13)\n",
    "df_labels"
   ]
  },
  {
   "cell_type": "markdown",
   "metadata": {},
   "source": [
    "## Crear el grafo dirigido con los archivos del 2019 y 2020"
   ]
  },
  {
   "cell_type": "code",
   "execution_count": 9,
   "metadata": {},
   "outputs": [],
   "source": [
    "G1 = nx.DiGraph()\n",
    "\n",
    "for i in range(df_2019.shape[0]):\n",
    "    f = df_2019.iloc[i,:].values\n",
    "    f = f[~pd.isnull(f)]\n",
    "    G1.add_edge(f[0], f[1], weight=f[2])\n",
    "\n",
    "for i in range(df_2020.shape[0]):\n",
    "    f = df_2020.iloc[i,:].values\n",
    "    f = f[~pd.isnull(f)]\n",
    "    G1.add_edge(f[0], f[1], weight=f[2])"
   ]
  },
  {
   "cell_type": "code",
   "execution_count": 10,
   "metadata": {},
   "outputs": [
    {
     "name": "stdout",
     "output_type": "stream",
     "text": [
      "Cantidad de Colegios: 27583\n",
      "Cantidad de Conexiones: 349505\n"
     ]
    }
   ],
   "source": [
    "print('Cantidad de Colegios:',len(G1.nodes()))\n",
    "print('Cantidad de Conexiones:',len(G1.edges()))"
   ]
  },
  {
   "cell_type": "markdown",
   "metadata": {},
   "source": [
    "## Analizando la naturaleza del grafo"
   ]
  },
  {
   "cell_type": "code",
   "execution_count": 11,
   "metadata": {},
   "outputs": [
    {
     "data": {
      "image/png": "[encoded data removed]",
      "text/plain": [
       "<Figure size 640x480 with 1 Axes>"
      ]
     },
     "metadata": {},
     "output_type": "display_data"
    }
   ],
   "source": [
    "hist = nx.degree_histogram(G1)\n",
    "\n",
    "plt.plot(range(0, len(hist)), hist, '.')\n",
    "plt.xlabel('Degree')\n",
    "plt.ylabel('#Nodes')\n",
    "#plt.loglog()\n",
    "plt.show()"
   ]
  },
  {
   "cell_type": "markdown",
   "metadata": {},
   "source": [
    "## Agregando etiquetas al grafo"
   ]
  },
  {
   "cell_type": "code",
   "execution_count": 12,
   "metadata": {},
   "outputs": [],
   "source": [
    "#dic_colegios = {}\n",
    "#colegios_existentes = 0\n",
    "#colegios_no_existentes = 0\n",
    "for i in range(df_labels.shape[0]):\n",
    "    f = df_labels.iloc[i,:].values\n",
    "    f = f[~pd.isnull(f)]\n",
    "    if G1.has_node(f[0]):\n",
    "        #if(f[3] == 'LIMA'):\n",
    "        G1.add_node(f[0], departamento=f[2], provincia=f[3], distrito=f[4], region=f[5], ugel=f[6], gestion=f[7], modalidad=f[8], label=f[9], nombre=f[9], lon=f[10], lat=f[11])\n",
    "        #else:\n",
    "        #G1.remove_node(f[0])\n",
    "        #print('0:', f[0],'1:', f[1],'2:', f[2],'3:', f[3],'4:', f[4],'5:', f[5],'6:', f[6],'7:', f[7],'8:', f[8],'9:', f[9],'10:', f[10])\n",
    "        #colegios_existentes += 1\n",
    "    #else:\n",
    "    #colegios_no_existentes += 1\n",
    "    #print(f)\n",
    "    #G1.add_edge(f[0], f[1], weight=f[2])\n",
    "\n",
    "#print('cantidad de existentes:', colegios_existentes, ', no existentes:', colegios_no_existentes)"
   ]
  },
  {
   "cell_type": "code",
   "execution_count": 14,
   "metadata": {},
   "outputs": [],
   "source": [
    "# exportando grafo\n",
    "nx.write_graphml(G1, 'out/colegios_2019_2020.graphml')"
   ]
  },
  {
   "cell_type": "markdown",
   "metadata": {},
   "source": [
    "# Calculando las metricas de centralidad"
   ]
  },
  {
   "cell_type": "markdown",
   "metadata": {},
   "source": [
    "## Degree Centrality"
   ]
  },
  {
   "cell_type": "code",
   "execution_count": 16,
   "metadata": {},
   "outputs": [],
   "source": [
    "degrees = dict(G1.degree()) # calcular los grados como diccionario"
   ]
  },
  {
   "cell_type": "code",
   "execution_count": 17,
   "metadata": {},
   "outputs": [
    {
     "name": "stdout",
     "output_type": "stream",
     "text": [
      "{'TRILCE LOS OLIVOS': 621, '3057 SANTA ROSA DE CARABAYLLO': 597, 'TERESA GONZALES DE FANNING': 525, 'MERCEDES CABELLO DE CARBONERA': 493, 'TRILCE SALAVERRY': 491}\n"
     ]
    }
   ],
   "source": [
    "ranks_degree_G1 = [(k,v) for k,v in sorted(degrees.items(), key=lambda item:-item[1])]\n",
    "lista_ranks_degree = {G1.nodes()[n]['nombre']:v for n,v in ranks_degree_G1[:5]} #top 5 según grado\n",
    "print(lista_ranks_degree)"
   ]
  },
  {
   "cell_type": "markdown",
   "metadata": {},
   "source": [
    "## Closeness Centrality"
   ]
  },
  {
   "cell_type": "code",
   "execution_count": 18,
   "metadata": {},
   "outputs": [],
   "source": [
    "closeness = nx.closeness_centrality(G1) # calcular la centralidad de cercania de todos los nodos"
   ]
  },
  {
   "cell_type": "code",
   "execution_count": 19,
   "metadata": {},
   "outputs": [
    {
     "name": "stdout",
     "output_type": "stream",
     "text": [
      "{'CORONEL BRUNO TERREROS BALDEON': 0.095778334525857, 'DIONISIO MANCO CAMPOS': 0.0922943451668057, '3057 SANTA ROSA DE CARABAYLLO': 0.09146334453309829, 'TERESA GONZALES DE FANNING': 0.09028713902105495, '2038 INCA GARCILASO DE LA VEGA': 0.08659820482459583}\n"
     ]
    }
   ],
   "source": [
    "ranks_closeness_G1 = [(k,v) for k,v in sorted(closeness.items(), key=lambda item:-item[1])]\n",
    "lista_ranks_closeness = {G1.nodes()[n]['nombre']:v for n,v in ranks_closeness_G1[:5]} #top 5 según grado\n",
    "print(lista_ranks_closeness)"
   ]
  },
  {
   "cell_type": "markdown",
   "metadata": {},
   "source": [
    "## Betweeness centrality"
   ]
  },
  {
   "cell_type": "code",
   "execution_count": 20,
   "metadata": {},
   "outputs": [],
   "source": [
    "betweeness = nx.betweenness_centrality(G1) # calcular la centralidad de intermediarios de todos los nodos"
   ]
  },
  {
   "cell_type": "code",
   "execution_count": 21,
   "metadata": {},
   "outputs": [
    {
     "name": "stdout",
     "output_type": "stream",
     "text": [
      "{'DIONISIO MANCO CAMPOS': 0.07577448151070064, 'JOSE ABELARDO QUIÑONES': 0.07557541286588924, '21015': 0.01940713475856744, 'SACRO COURE': 0.012568909554870005, 'AUGUSTO B. LEGUIA': 0.009327122938337649}\n"
     ]
    }
   ],
   "source": [
    "ranks_betweeness_G1 = [(k,v) for k,v in sorted(betweeness.items(), key=lambda item:-item[1])]\n",
    "lista_ranks_betweenness = {G1.nodes()[n]['nombre']:v for n,v in ranks_betweeness_G1[:5]} #top 5 según grado\n",
    "print(lista_ranks_betweenness)"
   ]
  },
  {
   "cell_type": "markdown",
   "metadata": {},
   "source": [
    "## Harmonic Centrality"
   ]
  },
  {
   "cell_type": "code",
   "execution_count": 22,
   "metadata": {},
   "outputs": [],
   "source": [
    "harmonic = nx.harmonic_centrality(G1) # calcular la centralidad harmonica de todos los nodos"
   ]
  },
  {
   "cell_type": "code",
   "execution_count": 23,
   "metadata": {},
   "outputs": [
    {
     "name": "stdout",
     "output_type": "stream",
     "text": [
      "{'MILITAR LEONCIO PRADO': 2831.1269841270887, 'DIONISIO MANCO CAMPOS': 2782.6476190475482, 'CORONEL BRUNO TERREROS BALDEON': 2763.835714285668, 'COLEGIO MAYOR SECUNDARIO PRESIDENTE DEL PERU': 2742.076984127094, '3057 SANTA ROSA DE CARABAYLLO': 2726.6500000000706}\n"
     ]
    }
   ],
   "source": [
    "ranks_harmonic_G1 = [(k,v) for k,v in sorted(harmonic.items(), key=lambda item:-item[1])]\n",
    "lista_ranks_harmonic = {G1.nodes()[n]['nombre']:v for n,v in ranks_harmonic_G1[:5]} #top 5 según grado\n",
    "print(lista_ranks_harmonic)"
   ]
  },
  {
   "cell_type": "markdown",
   "metadata": {},
   "source": [
    "## Pagerank Centrality"
   ]
  },
  {
   "cell_type": "code",
   "execution_count": 24,
   "metadata": {},
   "outputs": [],
   "source": [
    "pagerank = nx.pagerank(G1) # calcular el pagerank de todos los nodos"
   ]
  },
  {
   "cell_type": "code",
   "execution_count": 25,
   "metadata": {},
   "outputs": [
    {
     "name": "stdout",
     "output_type": "stream",
     "text": [
      "{'3057 SANTA ROSA DE CARABAYLLO': 0.0007477786120327778, 'LUIS FABIO XAMMAR JURADO': 0.0005296402834489942, 'PEAD LICEO NAVAL ALMIRANTE GUISE': 0.0005191053549974533, 'COLEGIO MAYOR SECUNDARIO PRESIDENTE DEL PERU': 0.0004892924948952113, 'MILITAR LEONCIO PRADO': 0.0004887809173439655}\n"
     ]
    }
   ],
   "source": [
    "ranks_pagerank_G1 = [(k,v) for k,v in sorted(pagerank.items(), key=lambda item:-item[1])]\n",
    "lista_ranks_pagerank = {G1.nodes()[n]['nombre']:v for n,v in ranks_pagerank_G1[:5]} #top 5 según grado\n",
    "print(lista_ranks_pagerank)"
   ]
  },
  {
   "cell_type": "code",
   "execution_count": null,
   "metadata": {},
   "outputs": [],
   "source": []
  },
  {
   "cell_type": "markdown",
   "metadata": {},
   "source": [
    "# Preuntas:"
   ]
  },
  {
   "cell_type": "markdown",
   "metadata": {},
   "source": [
    "### Simule su red con un gráfico aleatorio similar."
   ]
  },
  {
   "cell_type": "code",
   "execution_count": 4,
   "metadata": {},
   "outputs": [
    {
     "name": "stdout",
     "output_type": "stream",
     "text": [
      "Collecting powerlaw\n",
      "  Downloading powerlaw-1.5-py3-none-any.whl (24 kB)\n",
      "Requirement already satisfied: mpmath in d:\\users\\ycamposl\\anaconda3\\lib\\site-packages (from powerlaw) (1.1.0)\n",
      "Requirement already satisfied: numpy in d:\\users\\ycamposl\\anaconda3\\lib\\site-packages (from powerlaw) (1.19.2)\n",
      "Requirement already satisfied: matplotlib in d:\\users\\ycamposl\\anaconda3\\lib\\site-packages (from powerlaw) (3.3.2)\n",
      "Requirement already satisfied: scipy in d:\\users\\ycamposl\\anaconda3\\lib\\site-packages (from powerlaw) (1.5.2)\n",
      "Requirement already satisfied: certifi>=2020.06.20 in d:\\users\\ycamposl\\anaconda3\\lib\\site-packages (from matplotlib->powerlaw) (2020.6.20)\n",
      "Requirement already satisfied: python-dateutil>=2.1 in d:\\users\\ycamposl\\anaconda3\\lib\\site-packages (from matplotlib->powerlaw) (2.8.1)\n",
      "Requirement already satisfied: pyparsing!=2.0.4,!=2.1.2,!=2.1.6,>=2.0.3 in d:\\users\\ycamposl\\anaconda3\\lib\\site-packages (from matplotlib->powerlaw) (2.4.7)\n",
      "Requirement already satisfied: kiwisolver>=1.0.1 in d:\\users\\ycamposl\\anaconda3\\lib\\site-packages (from matplotlib->powerlaw) (1.3.0)\n",
      "Requirement already satisfied: cycler>=0.10 in d:\\users\\ycamposl\\anaconda3\\lib\\site-packages (from matplotlib->powerlaw) (0.10.0)\n",
      "Requirement already satisfied: pillow>=6.2.0 in d:\\users\\ycamposl\\anaconda3\\lib\\site-packages (from matplotlib->powerlaw) (8.0.1)\n",
      "Requirement already satisfied: six>=1.5 in d:\\users\\ycamposl\\anaconda3\\lib\\site-packages (from python-dateutil>=2.1->matplotlib->powerlaw) (1.15.0)\n",
      "Installing collected packages: powerlaw\n",
      "Successfully installed powerlaw-1.5\n"
     ]
    }
   ],
   "source": [
    "!pip install powerlaw"
   ]
  },
  {
   "cell_type": "code",
   "execution_count": 5,
   "metadata": {},
   "outputs": [],
   "source": [
    "import networkx as nx\n",
    "import warnings\n",
    "import pandas as pd\n",
    "import numpy as np\n",
    "import matplotlib.pyplot as plt\n",
    "import powerlaw\n",
    "warnings.filterwarnings('ignore')\n",
    "%matplotlib inline "
   ]
  },
  {
   "cell_type": "markdown",
   "metadata": {},
   "source": [
    "* Cantidad de Colegios: 27583\n",
    "* Cantidad de Conexiones: 349505"
   ]
  },
  {
   "cell_type": "code",
   "execution_count": null,
   "metadata": {},
   "outputs": [],
   "source": [
    "#crear un grafo ER con 400 nodos y 5% de probabilidad de conexión\n",
    "er = nx.erdos_renyi_graph(27583, 0.05)\n",
    "nx.draw(er, node_size=2)"
   ]
  },
  {
   "cell_type": "code",
   "execution_count": null,
   "metadata": {},
   "outputs": [],
   "source": []
  }
 ],
 "metadata": {
  "kernelspec": {
   "display_name": "Python 3",
   "language": "python",
   "name": "python3"
  },
  "language_info": {
   "codemirror_mode": {
    "name": "ipython",
    "version": 3
   },
   "file_extension": ".py",
   "mimetype": "text/x-python",
   "name": "python",
   "nbconvert_exporter": "python",
   "pygments_lexer": "ipython3",
   "version": "3.8.5"
  }
 },
 "nbformat": 4,
 "nbformat_minor": 1
}
